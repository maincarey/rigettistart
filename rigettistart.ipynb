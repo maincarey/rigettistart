{
 "cells": [
  {
   "cell_type": "code",
   "execution_count": null,
   "metadata": {},
   "outputs": [],
   "source": [
    "pip install ipykernel"
   ]
  },
  {
   "cell_type": "code",
   "execution_count": null,
   "metadata": {
    "scrolled": true
   },
   "outputs": [],
   "source": [
    "pip install pyquil"
   ]
  },
  {
   "cell_type": "code",
   "execution_count": null,
   "metadata": {},
   "outputs": [],
   "source": [
    "pip install scipy"
   ]
  },
  {
   "cell_type": "code",
   "execution_count": null,
   "metadata": {},
   "outputs": [],
   "source": [
    "pip install Cython"
   ]
  },
  {
   "cell_type": "code",
   "execution_count": null,
   "metadata": {},
   "outputs": [],
   "source": [
    "pip install h5py"
   ]
  },
  {
   "cell_type": "code",
   "execution_count": null,
   "metadata": {},
   "outputs": [],
   "source": [
    "# need two lines above for qutip cython and h5py\n",
    "pip install qutip"
   ]
  },
  {
   "cell_type": "code",
   "execution_count": null,
   "metadata": {},
   "outputs": [],
   "source": [
    "# Was missing install for code below\n",
    "!pip install matplotlib"
   ]
  },
  {
   "cell_type": "code",
   "execution_count": null,
   "metadata": {},
   "outputs": [],
   "source": [
    "%matplotlib inline\n",
    "import matplotlib.pyplot as plt\n",
    "from collections import Counter\n",
    "import numpy as np"
   ]
  },
  {
   "cell_type": "code",
   "execution_count": null,
   "metadata": {},
   "outputs": [],
   "source": [
    "# Start of Warsaw code\n",
    "\n",
    "%matplotlib inline\n",
    "#import matplotlib.pyplot as plt\n",
    "#from collections import Counter\n",
    "#import numpy as np\n",
    "\n",
    "def plot_state_histogram(result):\n",
    "    total_count = len(result[0])\n",
    "    n_qubits = len(result)\n",
    "    all_states = []\n",
    "    \n",
    "    for i in range(total_count):\n",
    "        state = []\n",
    "        for j in range(n_qubits):\n",
    "            state.append(result[j][i])\n",
    "        all_states.append(tuple(state))\n",
    "\n",
    "    states_with_counts = Counter(all_states).most_common()[::-1]    \n",
    "    \n",
    "    states = np.array(states_with_counts)[:,0]\n",
    "    probs = (np.array(states_with_counts)[:,1]/total_count).astype(float)\n",
    "    n = len(states_with_counts)\n",
    "    plt.barh(range(n), probs, tick_label=states)\n",
    "    plt.show()"
   ]
  },
  {
   "cell_type": "code",
   "execution_count": null,
   "metadata": {},
   "outputs": [],
   "source": [
    "import cmath\n",
    "from qutip import Bloch\n",
    "from pyquil.api import WavefunctionSimulator\n",
    "\n",
    "\n",
    "def get_vector(alpha, beta):\n",
    "    \"\"\"\n",
    "    Function to compute 3D Cartesian coordinates\n",
    "    from 2D qubit vector.\n",
    "    \"\"\"\n",
    "\n",
    "    # get phases\n",
    "    angle_alpha = cmath.phase(alpha)\n",
    "    angle_beta = cmath.phase(beta)\n",
    "\n",
    "    # avoiding wrong normalization due to rounding errors\n",
    "    if cmath.isclose(angle_alpha, cmath.pi):\n",
    "        angle_alpha = 0\n",
    "    if cmath.isclose(angle_beta, cmath.pi):\n",
    "        angle_beta = 0\n",
    "        \n",
    "    if (angle_beta < 0 and angle_alpha < angle_beta) or (angle_beta > 0 and angle_alpha > angle_beta):\n",
    "            denominator = cmath.exp(1j*angle_beta)\n",
    "    else:\n",
    "            denominator = cmath.exp(1j*angle_alpha)\n",
    "\n",
    "    # eliminate global phase\n",
    "    alpha_new = alpha/denominator\n",
    "    beta_new = beta/denominator\n",
    "\n",
    "    # special case to avoid division by zero\n",
    "    if abs(alpha) == 0 or abs(beta) == 0:\n",
    "        if alpha == 0:\n",
    "            return [0,0,-1]\n",
    "        else:\n",
    "            return [0,0,1]\n",
    "    else:\n",
    "        # compute theta and phi from alpha and beta\n",
    "        theta = 2*cmath.acos(alpha_new)\n",
    "        phi = -1j*cmath.log(beta_new/cmath.sin(theta/2))\n",
    "\n",
    "        # compute the Cartesian coordinates\n",
    "        x = cmath.sin(theta)*cmath.cos(phi)\n",
    "        y = cmath.sin(theta)*cmath.sin(phi)\n",
    "        z = cmath.cos(theta)\n",
    "\n",
    "    return [x.real,y.real,z.real]\n",
    "\n",
    "def plot_quantum_state(program):\n",
    "    \"\"\"\n",
    "    Thin function to abstract the plotting on the Bloch sphere.\n",
    "    \"\"\"\n",
    "    wfn = WavefunctionSimulator().wavefunction(program)\n",
    "    amplitudes = wfn.amplitudes\n",
    "    print(amplitudes)\n",
    "    bloch_sphere = Bloch()\n",
    "    vec = get_vector(amplitudes[0], amplitudes[1])\n",
    "    bloch_sphere.add_vectors(vec)\n",
    "    bloch_sphere.show()\n",
    "    bloch_sphere.clear()"
   ]
  },
  {
   "cell_type": "code",
   "execution_count": null,
   "metadata": {},
   "outputs": [],
   "source": [
    "# Start of basic programs above was loading for plotting\n",
    "\n",
    "from pyquil import Program, get_qc\n",
    "from pyquil.gates import *\n",
    "from pyquil.api import WavefunctionSimulator"
   ]
  },
  {
   "cell_type": "code",
   "execution_count": null,
   "metadata": {},
   "outputs": [],
   "source": [
    "# construct an empty program\n",
    "p = Program()\n",
    "qc = get_qc('2q-qvm')\n",
    "#add if you wanted more servers with different parameters\n",
    "#qc_2 = get_qc('3q-qvm')\n",
    "#qc_3 = get_qc('4q-qvm', noisy=True)\n",
    "result = qc.run_and_measure(p, trials=10)\n",
    "print(result)"
   ]
  },
  {
   "cell_type": "code",
   "execution_count": null,
   "metadata": {},
   "outputs": [],
   "source": [
    "def run_and_visualize(program, n_qubits=2, trials=10, qc=None):\n",
    "    if qc is None:\n",
    "        qc = get_qc(str(n_qubits)+'q-qvm')\n",
    "    \n",
    "    result = qc.run_and_measure(program, trials=trials)\n",
    "    if trials <= 100:\n",
    "        for i in range(n_qubits):\n",
    "            print(result[i])\n",
    "    wfn = WavefunctionSimulator().wavefunction(p)\n",
    "    print(\"wavefunction:\", wfn)\n",
    "    print(\"Probabilities:\", wfn.probabilities())\n",
    "    plot_state_histogram(result)"
   ]
  },
  {
   "cell_type": "code",
   "execution_count": null,
   "metadata": {},
   "outputs": [],
   "source": [
    "# construct an equal superposition\n",
    "p = Program(H(0))\n",
    "run_and_visualize(p, n_qubits=1, trials=100)"
   ]
  },
  {
   "cell_type": "code",
   "execution_count": null,
   "metadata": {},
   "outputs": [],
   "source": [
    "# construct an equal superposition on N qubits\n",
    "p = Program()\n",
    "#number of qbits\n",
    "N = 5\n",
    "for i in range(N):\n",
    "    # add gate to notation\n",
    "    p += (H(i))\n",
    "print(p)\n",
    "# with number of trials you are looking for a uniform distribution on plot same percentage\n",
    "run_and_visualize(p, n_qubits=N, trials=10000)"
   ]
  },
  {
   "cell_type": "code",
   "execution_count": null,
   "metadata": {},
   "outputs": [],
   "source": [
    "# construct a Bell State (|00> + |11>)\n",
    "p = Program(H(0), CNOT(0, 1))\n",
    "# or can add gates one by one like below\n",
    "# p += H(0)\n",
    "# p += CNOT(0,1)"
   ]
  },
  {
   "cell_type": "code",
   "execution_count": null,
   "metadata": {},
   "outputs": [],
   "source": [
    "# construct a GHZ state (|00...0> + |11...1>)\n",
    "N = 5\n",
    "p = Program(H(0))\n",
    "for i in range(1, N):\n",
    "    p += Program(CNOT(0, i))\n",
    "run_and_visualize(p, n_qubits=N)"
   ]
  },
  {
   "cell_type": "code",
   "execution_count": null,
   "metadata": {},
   "outputs": [],
   "source": [
    "# Let's explore some basic gates: I, X, Y, Z, RX, RY, RZ, H, CNOT, SWAP"
   ]
  },
  {
   "cell_type": "code",
   "execution_count": null,
   "metadata": {},
   "outputs": [],
   "source": [
    "# identity gate\n",
    "p = Program(I(0))\n",
    "run_and_visualize(p,1)"
   ]
  },
  {
   "cell_type": "code",
   "execution_count": null,
   "metadata": {},
   "outputs": [],
   "source": [
    "plot_quantum_state(p)"
   ]
  },
  {
   "cell_type": "code",
   "execution_count": null,
   "metadata": {},
   "outputs": [],
   "source": [
    "# Hadamard gate\n",
    "p = Program(H(0))\n",
    "run_and_visualize(p,1)"
   ]
  },
  {
   "cell_type": "code",
   "execution_count": null,
   "metadata": {},
   "outputs": [],
   "source": [
    "plot_quantum_state(p)"
   ]
  },
  {
   "cell_type": "code",
   "execution_count": null,
   "metadata": {},
   "outputs": [],
   "source": [
    "# X gate\n",
    "p = Program(X(0))\n",
    "run_and_visualize(p,1)"
   ]
  },
  {
   "cell_type": "code",
   "execution_count": null,
   "metadata": {},
   "outputs": [],
   "source": [
    "plot_quantum_state(p)"
   ]
  },
  {
   "cell_type": "code",
   "execution_count": null,
   "metadata": {},
   "outputs": [],
   "source": [
    "# RX gate\n",
    "p = Program(RX(np.pi/4,0))\n",
    "run_and_visualize(p,1)\n",
    "\n",
    "#plot_quantum_state(p)"
   ]
  },
  {
   "cell_type": "code",
   "execution_count": null,
   "metadata": {},
   "outputs": [],
   "source": [
    "plot_quantum_state(p)"
   ]
  },
  {
   "cell_type": "code",
   "execution_count": null,
   "metadata": {},
   "outputs": [],
   "source": [
    "# CNOT gate first is index control bit and other act on CNOT has to act on another gate\n",
    "p = Program(H(0))\n",
    "p += CNOT(0, 1)\n",
    "run_and_visualize(p,2)"
   ]
  },
  {
   "cell_type": "code",
   "execution_count": null,
   "metadata": {},
   "outputs": [],
   "source": [
    "plot_quantum_state(p)\n"
   ]
  },
  {
   "cell_type": "code",
   "execution_count": null,
   "metadata": {},
   "outputs": [],
   "source": [
    "p = Program(H(0))\n",
    "# p = Program(H(0), RZ(np.pi/2, 0))\n",
    "# p += CNOT(0, 1)\n",
    "# p += H(0)\n",
    "# p += H(1)\n",
    "# the below (p,2) 2 stands for number of states you are running\n",
    "run_and_visualize(p, 2)"
   ]
  },
  {
   "cell_type": "code",
   "execution_count": null,
   "metadata": {},
   "outputs": [],
   "source": [
    "# Measurements"
   ]
  },
  {
   "cell_type": "code",
   "execution_count": null,
   "metadata": {},
   "outputs": [],
   "source": [
    "qc = get_qc('2q-qvm')\n",
    "p = Program()\n",
    "p += H(0)\n",
    "result = qc.run_and_measure(p, trials=10)\n",
    "print(result[0])"
   ]
  },
  {
   "cell_type": "code",
   "execution_count": null,
   "metadata": {},
   "outputs": [],
   "source": [
    "qc = get_qc('2q-qvm')\n",
    "p = Program()\n",
    "p += H(0)\n",
    "#ro is short for readout \n",
    "# below is a regiater for bits 16\n",
    "ro = p.declare('ro', 'BIT', 16)\n",
    "p += MEASURE(0, ro[0])\n",
    "# add another measure \n",
    "p += MEASURE(1, ro[1])\n",
    "result = qc.run(p)\n",
    "\n",
    "print(result)"
   ]
  },
  {
   "cell_type": "code",
   "execution_count": null,
   "metadata": {},
   "outputs": [],
   "source": [
    "qc = get_qc('2q-qvm')\n",
    "p = Program()\n",
    "p += X(0)\n",
    "#ro is short for readout\n",
    "ro = p.declare('ro', 'BIT', 16)\n",
    "p += MEASURE(0, ro[0])\n",
    "#p += H(0)\n",
    "result = []\n",
    "for i in range(100):\n",
    "    result.append(qc.run(p)[0,0])\n",
    "\n",
    "print(np.array(result))"
   ]
  },
  {
   "cell_type": "code",
   "execution_count": null,
   "metadata": {},
   "outputs": [],
   "source": [
    "# The measurement colapses the wavefunction  - quantum state gone\n",
    "# so you cant perform an operation on a qbit after it is measured"
   ]
  },
  {
   "cell_type": "code",
   "execution_count": null,
   "metadata": {
    "collapsed": true
   },
   "outputs": [],
   "source": [
    "qc = get_qc('2q-qvm')\n",
    "p = Program()\n",
    "p += X(0)\n",
    "p += H(1)\n",
    "#ro is short for readout\n",
    "ro = p.declare('ro', 'BIT', 16)\n",
    "p += MEASURE(0, ro[0])\n",
    "# p += MEASURE(1, ro[1])\n",
    "# p += H(0)\n",
    "\n",
    "# python program to use loops instead for loop\n",
    "p.wrap_in_numshots_loop(100)\n",
    "result = qc.run(p)\n",
    "\n",
    "print(result[:])"
   ]
  },
  {
   "cell_type": "code",
   "execution_count": 41,
   "metadata": {},
   "outputs": [],
   "source": [
    "#Noise \n",
    "# Did it collapse states\n",
    "# gate fidelity\n",
    "# reader error\n",
    "# coherence errors - only last limited time - longer exists it will go to ground state zero"
   ]
  },
  {
   "cell_type": "code",
   "execution_count": 42,
   "metadata": {},
   "outputs": [
    {
     "name": "stdout",
     "output_type": "stream",
     "text": [
      "[1 1 1 1 0 0 0 1 0 0]\n",
      "wavefunction: (0.7071067812+0j)|0> + (0.7071067812+0j)|1>\n",
      "Probabilities: [0.5 0.5]\n"
     ]
    },
    {
     "data": {
      "image/png": "[encoded data removed]",
      "text/plain": [
       "<Figure size 432x288 with 1 Axes>"
      ]
     },
     "metadata": {
      "needs_background": "light"
     },
     "output_type": "display_data"
    }
   ],
   "source": [
    "qc = get_qc('2q-qvm', noisy=True)\n",
    "p = Program(H(0))\n",
    "run_and_visualize(p, n_qubits=1, qc=qc)"
   ]
  },
  {
   "cell_type": "code",
   "execution_count": 43,
   "metadata": {},
   "outputs": [
    {
     "name": "stdout",
     "output_type": "stream",
     "text": [
      "[1 1 1 1 1 1 1 1 0 1 1 1 1 0 1 1 1 1 1 1 1 1 1 1 1 1 1 1 1 1 1 1 1 1 0 1 0\n",
      " 1 1 1 1 1 1 1 1 1 1 1 1 1 1 1 1 1 1 1 1 1 1 1 1 1 1 1 1 1 1 1 1 0 1 1 1 0\n",
      " 1 1 1 1 1 1 1 1 1 1 1 1 1 1 1 1 1 1 0 1 1 1 1 1 1 1]\n",
      "wavefunction: (1+0j)|1>\n",
      "Probabilities: [0. 1.]\n"
     ]
    },
    {
     "data": {
      "image/png": "[encoded data removed]",
      "text/plain": [
       "<Figure size 432x288 with 1 Axes>"
      ]
     },
     "metadata": {
      "needs_background": "light"
     },
     "output_type": "display_data"
    }
   ],
   "source": [
    "# will not work just w noisy=True\n",
    "qc = get_qc('2q-qvm', noisy=True)\n",
    "p = Program(X(0))\n",
    "run_and_visualize(p, n_qubits=1, qc=qc, trials=100)"
   ]
  },
  {
   "cell_type": "code",
   "execution_count": 47,
   "metadata": {},
   "outputs": [
    {
     "name": "stdout",
     "output_type": "stream",
     "text": [
      "9046\n"
     ]
    }
   ],
   "source": [
    "# have to pass as_qvm=True for noise not just \n",
    "p = Program(X(0))\n",
    "qc = get_qc('2q', as_qvm=True, noisy=True)\n",
    "result = qc.run_and_measure(p, trials=10000)\n",
    "print(result[0].sum())"
   ]
  },
  {
   "cell_type": "code",
   "execution_count": 48,
   "metadata": {},
   "outputs": [
    {
     "name": "stdout",
     "output_type": "stream",
     "text": [
      "[1 1 1 1 1 1 1 1 1 1 1 1 1 1 1 1 1 1 1 1 1 1 1 1 1 0 1 1 1 1 1 1 1 1 1 1 0\n",
      " 1 1 1 1 1 0 1 1 1 1 1 1 1 0 1 1 1 0 1 1 0 1 1 1 1 1 1 1 1 1 1 1 1 1 1 1 1\n",
      " 1 1 1 1 1 1 1 1 1 1 0 0 1 1 1 1 0 1 1 1 1 1 1 1 0 1]\n",
      "wavefunction: (1+0j)|1>\n",
      "Probabilities: [0. 1.]\n"
     ]
    },
    {
     "data": {
      "image/png": "[encoded data removed]",
      "text/plain": [
       "<Figure size 432x288 with 1 Axes>"
      ]
     },
     "metadata": {
      "needs_background": "light"
     },
     "output_type": "display_data"
    }
   ],
   "source": [
    "\n",
    "run_and_visualize(p, n_qubits=1, qc=qc, trials=100)"
   ]
  },
  {
   "cell_type": "code",
   "execution_count": 49,
   "metadata": {},
   "outputs": [
    {
     "name": "stdout",
     "output_type": "stream",
     "text": [
      "wavefunction: (0.3535533906+0j)|000> + (0.3535533906+0j)|001> + (0.3535533906+0j)|010> + (0.3535533906+0j)|011> + (0.3535533906+0j)|100> + (0.3535533906+0j)|101> + (0.3535533906+0j)|110> + (0.3535533906+0j)|111>\n",
      "Probabilities: [0.125 0.125 0.125 0.125 0.125 0.125 0.125 0.125]\n"
     ]
    },
    {
     "data": {
      "image/png": "[encoded data removed]",
      "text/plain": [
       "<Figure size 432x288 with 1 Axes>"
      ]
     },
     "metadata": {
      "needs_background": "light"
     },
     "output_type": "display_data"
    }
   ],
   "source": [
    "\n",
    "qc = get_qc('3q', as_qvm=True, noisy=True)\n",
    "p = Program(H(0), H(1), H(2))\n",
    "run_and_visualize(p, n_qubits=3, qc=qc,trials=10000)"
   ]
  },
  {
   "cell_type": "code",
   "execution_count": 50,
   "metadata": {},
   "outputs": [
    {
     "name": "stdout",
     "output_type": "stream",
     "text": [
      "wavefunction: (0.3535533906+0j)|000> + (0.3535533906+0j)|001> + (0.3535533906+0j)|010> + (0.3535533906+0j)|011> + (0.3535533906+0j)|100> + (0.3535533906+0j)|101> + (0.3535533906+0j)|110> + (0.3535533906+0j)|111>\n",
      "Probabilities: [0.125 0.125 0.125 0.125 0.125 0.125 0.125 0.125]\n"
     ]
    },
    {
     "data": {
      "image/png": "[encoded data removed]",
      "text/plain": [
       "<Figure size 432x288 with 1 Axes>"
      ]
     },
     "metadata": {
      "needs_background": "light"
     },
     "output_type": "display_data"
    }
   ],
   "source": [
    "qc = get_qc('3q', as_qvm=True, noisy=False)\n",
    "p = Program(H(0), H(1), H(2))\n",
    "run_and_visualize(p, n_qubits=3, qc=qc,trials=10000)"
   ]
  },
  {
   "cell_type": "code",
   "execution_count": null,
   "metadata": {},
   "outputs": [],
   "source": [
    "# Connectivity"
   ]
  },
  {
   "cell_type": "code",
   "execution_count": 52,
   "metadata": {},
   "outputs": [
    {
     "data": {
      "text/plain": [
       "['Aspen-4-2Q-A',\n",
       " 'Aspen-4-3Q-A',\n",
       " 'Aspen-4-4Q-A',\n",
       " 'Aspen-4-5Q-A',\n",
       " 'Aspen-4-6Q-A',\n",
       " 'Aspen-4-7Q-A',\n",
       " 'Aspen-4-8Q-A',\n",
       " 'Aspen-4-9Q-A',\n",
       " 'Aspen-4-10Q-A',\n",
       " 'Aspen-4-11Q-A',\n",
       " 'Aspen-4-12Q-A',\n",
       " 'Aspen-4-13Q-A',\n",
       " 'Aspen-4-14Q-C',\n",
       " 'Aspen-4-13Q-C',\n",
       " 'Aspen-4-3Q-C',\n",
       " 'Aspen-4-4Q-C',\n",
       " 'Aspen-4-5Q-C',\n",
       " 'Aspen-4-6Q-C',\n",
       " 'Aspen-4-7Q-C',\n",
       " 'Aspen-4-8Q-C',\n",
       " 'Aspen-4-9Q-C',\n",
       " 'Aspen-4-10Q-C',\n",
       " 'Aspen-4-12Q-C',\n",
       " 'Aspen-4-11Q-C',\n",
       " 'Aspen-4-2Q-C',\n",
       " '9q-square-qvm',\n",
       " '9q-square-noisy-qvm']"
      ]
     },
     "execution_count": 52,
     "metadata": {},
     "output_type": "execute_result"
    }
   ],
   "source": [
    "from pyquil import list_quantum_computers\n",
    "# See quantum computers you can use\n",
    "list_quantum_computers()"
   ]
  },
  {
   "cell_type": "code",
   "execution_count": 58,
   "metadata": {},
   "outputs": [
    {
     "name": "stdout",
     "output_type": "stream",
     "text": [
      "[0 0 0 0 0 0 0 0 0 0 0 0 0 0 0 0 0 0 0 0 0 0 0 0 0 0 0 0 0 0 0 0 0 0 0 0 0\n",
      " 0 0 0 0 0 0 0 0 0 0 0 0 0 0 0 0 0 0 0 0 0 0 0 0 0 0 0 0 0 0 0 0 0 0 0 0 0\n",
      " 0 0 0 0 0 0 0 0 0 0 0 0 0 0 0 0 0 0 0 0 0 0 0 0 0 0]\n",
      "wavefunction: (1+0j)|0>\n",
      "Probabilities: [1. 0.]\n"
     ]
    },
    {
     "ename": "KeyError",
     "evalue": "3",
     "output_type": "error",
     "traceback": [
      "\u001b[0;31m---------------------------------------------------------------------------\u001b[0m",
      "\u001b[0;31mKeyError\u001b[0m                                  Traceback (most recent call last)",
      "\u001b[0;32m<ipython-input-58-440a7913977f>\u001b[0m in \u001b[0;36m<module>\u001b[0;34m\u001b[0m\n\u001b[1;32m      4\u001b[0m \u001b[0;31m# qc = get_qc('Aspen-1-15Q-A',as_qvm=True)\u001b[0m\u001b[0;34m\u001b[0m\u001b[0;34m\u001b[0m\u001b[0;34m\u001b[0m\u001b[0m\n\u001b[1;32m      5\u001b[0m \u001b[0mp\u001b[0m \u001b[0;34m=\u001b[0m \u001b[0mProgram\u001b[0m\u001b[0;34m(\u001b[0m\u001b[0mI\u001b[0m\u001b[0;34m(\u001b[0m\u001b[0;36m0\u001b[0m\u001b[0;34m)\u001b[0m\u001b[0;34m)\u001b[0m\u001b[0;34m\u001b[0m\u001b[0;34m\u001b[0m\u001b[0m\n\u001b[0;32m----> 6\u001b[0;31m \u001b[0mrun_and_visualize\u001b[0m\u001b[0;34m(\u001b[0m\u001b[0mp\u001b[0m\u001b[0;34m,\u001b[0m \u001b[0mn_qubits\u001b[0m\u001b[0;34m=\u001b[0m\u001b[0;36m1\u001b[0m\u001b[0;34m,\u001b[0m \u001b[0mqc\u001b[0m\u001b[0;34m=\u001b[0m\u001b[0mqc\u001b[0m\u001b[0;34m,\u001b[0m \u001b[0mtrials\u001b[0m\u001b[0;34m=\u001b[0m\u001b[0;36m100\u001b[0m\u001b[0;34m)\u001b[0m\u001b[0;34m\u001b[0m\u001b[0;34m\u001b[0m\u001b[0m\n\u001b[0m",
      "\u001b[0;32m<ipython-input-20-6cab6a6addfb>\u001b[0m in \u001b[0;36mrun_and_visualize\u001b[0;34m(program, n_qubits, trials, qc)\u001b[0m\n\u001b[1;32m     10\u001b[0m     \u001b[0mprint\u001b[0m\u001b[0;34m(\u001b[0m\u001b[0;34m\"wavefunction:\"\u001b[0m\u001b[0;34m,\u001b[0m \u001b[0mwfn\u001b[0m\u001b[0;34m)\u001b[0m\u001b[0;34m\u001b[0m\u001b[0;34m\u001b[0m\u001b[0m\n\u001b[1;32m     11\u001b[0m     \u001b[0mprint\u001b[0m\u001b[0;34m(\u001b[0m\u001b[0;34m\"Probabilities:\"\u001b[0m\u001b[0;34m,\u001b[0m \u001b[0mwfn\u001b[0m\u001b[0;34m.\u001b[0m\u001b[0mprobabilities\u001b[0m\u001b[0;34m(\u001b[0m\u001b[0;34m)\u001b[0m\u001b[0;34m)\u001b[0m\u001b[0;34m\u001b[0m\u001b[0;34m\u001b[0m\u001b[0m\n\u001b[0;32m---> 12\u001b[0;31m     \u001b[0mplot_state_histogram\u001b[0m\u001b[0;34m(\u001b[0m\u001b[0mresult\u001b[0m\u001b[0;34m)\u001b[0m\u001b[0;34m\u001b[0m\u001b[0;34m\u001b[0m\u001b[0m\n\u001b[0m",
      "\u001b[0;32m<ipython-input-16-7ef264482ba4>\u001b[0m in \u001b[0;36mplot_state_histogram\u001b[0;34m(result)\u001b[0m\n\u001b[1;32m     14\u001b[0m         \u001b[0mstate\u001b[0m \u001b[0;34m=\u001b[0m \u001b[0;34m[\u001b[0m\u001b[0;34m]\u001b[0m\u001b[0;34m\u001b[0m\u001b[0;34m\u001b[0m\u001b[0m\n\u001b[1;32m     15\u001b[0m         \u001b[0;32mfor\u001b[0m \u001b[0mj\u001b[0m \u001b[0;32min\u001b[0m \u001b[0mrange\u001b[0m\u001b[0;34m(\u001b[0m\u001b[0mn_qubits\u001b[0m\u001b[0;34m)\u001b[0m\u001b[0;34m:\u001b[0m\u001b[0;34m\u001b[0m\u001b[0;34m\u001b[0m\u001b[0m\n\u001b[0;32m---> 16\u001b[0;31m             \u001b[0mstate\u001b[0m\u001b[0;34m.\u001b[0m\u001b[0mappend\u001b[0m\u001b[0;34m(\u001b[0m\u001b[0mresult\u001b[0m\u001b[0;34m[\u001b[0m\u001b[0mj\u001b[0m\u001b[0;34m]\u001b[0m\u001b[0;34m[\u001b[0m\u001b[0mi\u001b[0m\u001b[0;34m]\u001b[0m\u001b[0;34m)\u001b[0m\u001b[0;34m\u001b[0m\u001b[0;34m\u001b[0m\u001b[0m\n\u001b[0m\u001b[1;32m     17\u001b[0m         \u001b[0mall_states\u001b[0m\u001b[0;34m.\u001b[0m\u001b[0mappend\u001b[0m\u001b[0;34m(\u001b[0m\u001b[0mtuple\u001b[0m\u001b[0;34m(\u001b[0m\u001b[0mstate\u001b[0m\u001b[0;34m)\u001b[0m\u001b[0;34m)\u001b[0m\u001b[0;34m\u001b[0m\u001b[0;34m\u001b[0m\u001b[0m\n\u001b[1;32m     18\u001b[0m \u001b[0;34m\u001b[0m\u001b[0m\n",
      "\u001b[0;31mKeyError\u001b[0m: 3"
     ]
    }
   ],
   "source": [
    "#qc = get_qc('Aspen-1-2Q-B')\n",
    "qc = get_qc('Aspen-4-10Q-A',as_qvm=True)\n",
    "# qc = get_qc('Aspen-1-9Q-B',as_qvm=True)\n",
    "# qc = get_qc('Aspen-1-15Q-A',as_qvm=True)\n",
    "p = Program(I(0))\n",
    "run_and_visualize(p, n_qubits=1, qc=qc, trials=100)"
   ]
  },
  {
   "cell_type": "code",
   "execution_count": 59,
   "metadata": {},
   "outputs": [],
   "source": [
    "import networkx as nx\n",
    "def visualize_topology(qc_name):\n",
    "    qc = get_qc(qc_name, as_qvm=True)\n",
    "    print(\"nodes:\", qc.qubit_topology().nodes)\n",
    "    print(\"edges:\", qc.qubit_topology().edges)\n",
    "    nx.draw(qc.qubit_topology())\n",
    "    from matplotlib import pyplot as plt\n",
    "    _ = plt.title(qc_name, fontsize=18)"
   ]
  },
  {
   "cell_type": "code",
   "execution_count": 76,
   "metadata": {},
   "outputs": [
    {
     "name": "stdout",
     "output_type": "stream",
     "text": [
      "nodes: [0, 1, 7, 2, 3, 15, 6, 10, 11, 12, 13, 14]\n",
      "edges: [(0, 1), (0, 7), (1, 2), (7, 6), (2, 3), (2, 15), (15, 14), (10, 11), (11, 12), (12, 13), (13, 14)]\n"
     ]
    },
    {
     "data": {
      "image/png": "[encoded data removed]",
      "text/plain": [
       "<Figure size 432x288 with 1 Axes>"
      ]
     },
     "metadata": {},
     "output_type": "display_data"
    }
   ],
   "source": [
    "# topology on the chip\n",
    "visualize_topology('Aspen-4-12Q-C')"
   ]
  },
  {
   "cell_type": "code",
   "execution_count": 78,
   "metadata": {},
   "outputs": [
    {
     "name": "stdout",
     "output_type": "stream",
     "text": [
      "RZ(pi/2) 0\n",
      "RX(pi/2) 0\n",
      "RZ(-pi/2) 1\n",
      "RX(pi/2) 1\n",
      "CZ 1 0\n",
      "RZ(pi/2) 1\n",
      "RX(pi/2) 1\n",
      "RZ(pi) 2\n",
      "RX(pi) 2\n",
      "CZ 1 2\n",
      "RZ(-pi/2) 1\n",
      "RX(-pi/2) 1\n",
      "RZ(pi/2) 2\n",
      "RX(pi/2) 2\n",
      "CZ 2 1\n",
      "RZ(pi) 1\n",
      "RX(pi/2) 1\n",
      "RX(-pi/2) 2\n",
      "CZ 1 2\n",
      "RX(pi) 0\n",
      "CZ 0 1\n",
      "RZ(pi/2) 0\n",
      "RX(pi) 0\n",
      "RZ(pi) 1\n",
      "RX(pi/2) 1\n",
      "RZ(pi/2) 1\n",
      "RZ(pi) 2\n",
      "HALT\n",
      "\n"
     ]
    },
    {
     "data": {
      "text/plain": [
       "25"
      ]
     },
     "execution_count": 78,
     "metadata": {},
     "output_type": "execute_result"
    }
   ],
   "source": [
    "# qc = get_qc('17q', as_qvm=True)\n",
    "qc = get_qc('Aspen-4-12Q-C', as_qvm=True)\n",
    "p = Program()\n",
    "# all gates are not implemented on server - so H gate is complied to RZ(pi/2) 0 RX(pi/2) 0 below\n",
    "# so the gates multiply and the server may have issue running that many gates\n",
    "p += H(0)\n",
    "p += CNOT(0, 14)\n",
    "p += CNOT(0, 1)\n",
    "#p += CNOT(0, 16)\n",
    "#p += CNOT(0, 15)\n",
    "print(qc.compile(p).program)\n",
    "\n",
    "#list number gates run\n",
    "len(qc.compile(p).program.split(\"\\n\")[1:-3])"
   ]
  },
  {
   "cell_type": "code",
   "execution_count": null,
   "metadata": {},
   "outputs": [],
   "source": [
    "#Parametric compilation"
   ]
  },
  {
   "cell_type": "code",
   "execution_count": 84,
   "metadata": {},
   "outputs": [],
   "source": [
    "p = Program()\n",
    "# rotation\n",
    "ro = p.declare(\"ro\", \"BIT\", 1)\n",
    "theta_ref = p.declare(\"theta\", \"REAL\")\n",
    "\n",
    "p += RX(np.pi / 2, 0)\n",
    "p += RZ(theta_ref, 0)\n",
    "p += RX(-np.pi / 2, 0)\n",
    "p += MEASURE(0, ro[0])"
   ]
  },
  {
   "cell_type": "code",
   "execution_count": 85,
   "metadata": {},
   "outputs": [
    {
     "name": "stdout",
     "output_type": "stream",
     "text": [
      "DECLARE ro BIT[1]\n",
      "DECLARE theta REAL[1]\n",
      "RX(pi/2) 0\n",
      "RZ(theta[0]) 0\n",
      "RX(-pi/2) 0\n",
      "MEASURE 0 ro[0]\n",
      "HALT\n",
      "\n"
     ]
    }
   ],
   "source": [
    "\n",
    "# Get a Quantum Virtual Machine to simulate execution\n",
    "qc = get_qc(\"1q-qvm\")\n",
    "executable = qc.compile(p)\n",
    "print(executable.program)"
   ]
  },
  {
   "cell_type": "code",
   "execution_count": 86,
   "metadata": {},
   "outputs": [],
   "source": [
    "parametric_measurements = []\n",
    "\n",
    "for theta in np.linspace(0, 2 * np.pi, 200):\n",
    "    # Get the results of the run with the value we want to execute with\n",
    "    bitstrings = qc.run(executable, {'theta': [theta]})\n",
    "    # Store our results\n",
    "    parametric_measurements.append(bitstrings)"
   ]
  },
  {
   "cell_type": "code",
   "execution_count": 88,
   "metadata": {},
   "outputs": [
    {
     "name": "stdout",
     "output_type": "stream",
     "text": [
      "RX(pi/2) 0\n",
      "RZ(0) 0\n",
      "RX(-pi/2) 0\n",
      "\n",
      "[1.+0.j 0.+0.j]\n"
     ]
    },
    {
     "data": {
      "image/png": "[encoded data removed]",
      "text/plain": [
       "<Figure size 360x360 with 1 Axes>"
      ]
     },
     "metadata": {},
     "output_type": "display_data"
    }
   ],
   "source": [
    "p = Program()\n",
    "p += RX(np.pi / 2, 0)\n",
    "p += RZ(0, 0)\n",
    "p += RX(-np.pi / 2, 0)\n",
    "\n",
    "print(p)\n",
    "plot_quantum_state(p)"
   ]
  },
  {
   "cell_type": "code",
   "execution_count": 83,
   "metadata": {},
   "outputs": [],
   "source": [
    "#Simple optimization example"
   ]
  },
  {
   "cell_type": "code",
   "execution_count": 89,
   "metadata": {},
   "outputs": [],
   "source": [
    "p = Program()\n",
    "ro = p.declare(\"ro\", \"BIT\", 3)\n",
    "theta_0_ref = p.declare(\"theta_0\", \"REAL\")\n",
    "p += RX(theta_0_ref, 0)\n",
    "p += MEASURE(0, ro[0])\n",
    "p.wrap_in_numshots_loop(1000);"
   ]
  },
  {
   "cell_type": "code",
   "execution_count": 90,
   "metadata": {},
   "outputs": [
    {
     "name": "stdout",
     "output_type": "stream",
     "text": [
      "DECLARE ro BIT[3]\n",
      "DECLARE theta_0 REAL[1]\n",
      "RZ(pi/2) 0\n",
      "RX(pi/2) 0\n",
      "RZ(theta_0[0]) 0\n",
      "RX(-pi/2) 0\n",
      "RZ(-pi/2) 0\n",
      "MEASURE 0 ro[0]\n",
      "HALT\n",
      "\n"
     ]
    }
   ],
   "source": [
    "qc = get_qc(\"1q\", as_qvm=True, noisy=False)\n",
    "executable = qc.compile(p)\n",
    "print(executable.program)"
   ]
  },
  {
   "cell_type": "code",
   "execution_count": 91,
   "metadata": {},
   "outputs": [
    {
     "data": {
      "text/plain": [
       "0.0"
      ]
     },
     "execution_count": 91,
     "metadata": {},
     "output_type": "execute_result"
    }
   ],
   "source": [
    "bitstrings = qc.run(executable, {'theta_0': [0]})\n",
    "bitstrings.sum()/1000"
   ]
  },
  {
   "cell_type": "code",
   "execution_count": 92,
   "metadata": {},
   "outputs": [],
   "source": [
    "theta_0 = np.pi # The algorithm starts at pi\n",
    "rate = 0.01 # Learning rate\n",
    "precision = 1e-5 #This tells us when to stop the algorithm\n",
    "previous_step_size = 1 #\n",
    "max_iters = 1000 # maximum number of iterations\n",
    "iters = 0 #iteration counter\n",
    "def cost_fun(x):\n",
    "    return 2*(x - 0.5)"
   ]
  },
  {
   "cell_type": "code",
   "execution_count": 93,
   "metadata": {},
   "outputs": [
    {
     "name": "stdout",
     "output_type": "stream",
     "text": [
      "Iteration 20 \n",
      "Y: 2.51 \n",
      "Theta: 0.3151244488869559 pi\n",
      "Iteration 40 \n",
      "Y: 0.95 \n",
      "Theta: 0.19550359365908743 pi\n",
      "Iteration 60 \n",
      "Y: 0.58 \n",
      "Theta: 0.16233570351873639 pi\n",
      "Iteration 80 \n",
      "Y: 0.51 \n",
      "Theta: 0.15023992784375234 pi\n",
      "The optimal value of theta: 0.147 pi\n",
      "Number of iterations: 92\n"
     ]
    }
   ],
   "source": [
    "while previous_step_size > precision and iters < max_iters:\n",
    "    prev_theta_0 = theta_0 #Store current x value in prev_x\n",
    "    bitstrings = qc.run(executable, {'theta_0': [theta_0]})\n",
    "    y = bitstrings.sum() / 100\n",
    "    theta_0 = theta_0 - rate * cost_fun(y) #Grad descent\n",
    "    previous_step_size = abs(theta_0 - prev_theta_0) #Change in x\n",
    "    iters = iters + 1 #iteration count\n",
    "    if iters%20 == 0:\n",
    "        print(\"Iteration\",iters,\"\\nY:\",y, \"\\nTheta:\", theta_0 / np.pi, \"pi\") #Print iterations\n",
    "    \n",
    "print(\"The optimal value of theta:\", np.round(theta_0/np.pi,3), \"pi\")\n",
    "print(\"Number of iterations:\", iters)"
   ]
  },
  {
   "cell_type": "code",
   "execution_count": null,
   "metadata": {},
   "outputs": [],
   "source": []
  },
  {
   "cell_type": "code",
   "execution_count": null,
   "metadata": {},
   "outputs": [],
   "source": []
  }
 ],
 "metadata": {
  "kernelspec": {
   "display_name": "Python 3",
   "language": "python",
   "name": "python3"
  },
  "language_info": {
   "codemirror_mode": {
    "name": "ipython",
    "version": 3
   },
   "file_extension": ".py",
   "mimetype": "text/x-python",
   "name": "python",
   "nbconvert_exporter": "python",
   "pygments_lexer": "ipython3",
   "version": "3.6.8"
  }
 },
 "nbformat": 4,
 "nbformat_minor": 2
}
